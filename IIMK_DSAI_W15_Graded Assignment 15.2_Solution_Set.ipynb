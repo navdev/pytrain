{
 "cells": [
  {
   "cell_type": "markdown",
   "id": "1e19fd3c",
   "metadata": {},
   "source": [
    "###### <h2><center>Module 11: Advanced Regression Methods</center></h2>\n",
    "<h4><center>Required Assignment - 2</center></h4>"
   ]
  },
  {
   "cell_type": "markdown",
   "id": "28f2cff4",
   "metadata": {},
   "source": [
    "#### Instructions: \n",
    "Prepare a Python notebook to build, train and evaluate a linear regression model given the dataset. Please read the instructions carefully.\n",
    "\n",
    "#### Business Case: \n",
    "Build regression models to predict car price based on various features given:\n",
    "\n",
    "#### Task: Car Price Dataset"
   ]
  },
  {
   "cell_type": "markdown",
   "id": "32c73928",
   "metadata": {},
   "source": [
    "1.\tImport Libraries/Dataset (1 mark)\n",
    "\n",
    "    •\tImport the required libraries and the dataset \n",
    "    \n",
    "\n",
    "2.\tData Visualisation and Augmentation (0.5*6 = 3 marks)\n",
    "\n",
    "    •\tPlot at least two EDA graphs (use matplotlib/seaborn/any other library)\n",
    "    \n",
    "    •\tCheck for assumptions of linear regression\n",
    "    \n",
    "    •\tBring the train and test data in the required format\n",
    "    \n",
    "    •\tPerform missing values check \n",
    "    \n",
    "    •\tPerform scaling of data\n",
    "    \n",
    "    •\tPrint the shapes of train and test data\n",
    "\n",
    "\n",
    "\n",
    "   \n",
    "3.\tDecision Tree Regression Model Building (0.5*3 = 1.5 marks)\n",
    "\n",
    "    •\tBuild a decision tree regression model\n",
    "    \n",
    "    •\tTrain the model on the train dataset \n",
    "    \n",
    "    •\tPrint the model summary\n",
    "\n",
    "    \n",
    "\n",
    "4.\tRandom Forest Regression Model Building (0.5*3 = 1.5 marks)\n",
    "\n",
    "    •\tBuild a random forest regression Model \n",
    "    \n",
    "    •\tTrain the model on the train dataset \n",
    "    \n",
    "    •\tPrint the model summary\n",
    "\n",
    "  \n",
    "    \n",
    "5.\tModel Evaluation (1 + 1 = 2 marks)\n",
    "\n",
    "    •\tPrint the final train and validation RMSE and MSE for both models \n",
    "    \n",
    "    •\tCheck for other evaluation metrics like MAE and R2 and explain which one should be used to evaluate this model (consider the business case)\n",
    "\n",
    "\n",
    "6.\tCompare the performance of decision tree regression and random forest regression models for given dataset (1 mark)\n"
   ]
  },
  {
   "cell_type": "markdown",
   "id": "fc87e872",
   "metadata": {},
   "source": [
    "<h3><center>Solutions </center></h3>"
   ]
  },
  {
   "cell_type": "markdown",
   "id": "32baed59",
   "metadata": {},
   "source": [
    "1. Import Libraries/Dataset (1 mark)\n",
    "\n",
    "    • Import the required libraries and the dataset"
   ]
  },
  {
   "cell_type": "code",
   "execution_count": 1,
   "id": "fecfe595",
   "metadata": {},
   "outputs": [
    {
     "data": {
      "text/html": [
       "<div>\n",
       "<style scoped>\n",
       "    .dataframe tbody tr th:only-of-type {\n",
       "        vertical-align: middle;\n",
       "    }\n",
       "\n",
       "    .dataframe tbody tr th {\n",
       "        vertical-align: top;\n",
       "    }\n",
       "\n",
       "    .dataframe thead th {\n",
       "        text-align: right;\n",
       "    }\n",
       "</style>\n",
       "<table border=\"1\" class=\"dataframe\">\n",
       "  <thead>\n",
       "    <tr style=\"text-align: right;\">\n",
       "      <th></th>\n",
       "      <th>car_ID</th>\n",
       "      <th>symboling</th>\n",
       "      <th>CarName</th>\n",
       "      <th>fueltype</th>\n",
       "      <th>aspiration</th>\n",
       "      <th>doornumber</th>\n",
       "      <th>carbody</th>\n",
       "      <th>drivewheel</th>\n",
       "      <th>enginelocation</th>\n",
       "      <th>wheelbase</th>\n",
       "      <th>...</th>\n",
       "      <th>enginesize</th>\n",
       "      <th>fuelsystem</th>\n",
       "      <th>boreratio</th>\n",
       "      <th>stroke</th>\n",
       "      <th>compressionratio</th>\n",
       "      <th>horsepower</th>\n",
       "      <th>peakrpm</th>\n",
       "      <th>citympg</th>\n",
       "      <th>highwaympg</th>\n",
       "      <th>price</th>\n",
       "    </tr>\n",
       "  </thead>\n",
       "  <tbody>\n",
       "    <tr>\n",
       "      <th>0</th>\n",
       "      <td>1</td>\n",
       "      <td>3</td>\n",
       "      <td>alfa-romero giulia</td>\n",
       "      <td>gas</td>\n",
       "      <td>std</td>\n",
       "      <td>two</td>\n",
       "      <td>convertible</td>\n",
       "      <td>rwd</td>\n",
       "      <td>front</td>\n",
       "      <td>88.6</td>\n",
       "      <td>...</td>\n",
       "      <td>130</td>\n",
       "      <td>mpfi</td>\n",
       "      <td>3.47</td>\n",
       "      <td>2.68</td>\n",
       "      <td>9.0</td>\n",
       "      <td>111</td>\n",
       "      <td>5000</td>\n",
       "      <td>21</td>\n",
       "      <td>27</td>\n",
       "      <td>13495.0</td>\n",
       "    </tr>\n",
       "    <tr>\n",
       "      <th>1</th>\n",
       "      <td>2</td>\n",
       "      <td>3</td>\n",
       "      <td>alfa-romero stelvio</td>\n",
       "      <td>gas</td>\n",
       "      <td>std</td>\n",
       "      <td>two</td>\n",
       "      <td>convertible</td>\n",
       "      <td>rwd</td>\n",
       "      <td>front</td>\n",
       "      <td>88.6</td>\n",
       "      <td>...</td>\n",
       "      <td>130</td>\n",
       "      <td>mpfi</td>\n",
       "      <td>3.47</td>\n",
       "      <td>2.68</td>\n",
       "      <td>9.0</td>\n",
       "      <td>111</td>\n",
       "      <td>5000</td>\n",
       "      <td>21</td>\n",
       "      <td>27</td>\n",
       "      <td>16500.0</td>\n",
       "    </tr>\n",
       "    <tr>\n",
       "      <th>2</th>\n",
       "      <td>3</td>\n",
       "      <td>1</td>\n",
       "      <td>alfa-romero Quadrifoglio</td>\n",
       "      <td>gas</td>\n",
       "      <td>std</td>\n",
       "      <td>two</td>\n",
       "      <td>hatchback</td>\n",
       "      <td>rwd</td>\n",
       "      <td>front</td>\n",
       "      <td>94.5</td>\n",
       "      <td>...</td>\n",
       "      <td>152</td>\n",
       "      <td>mpfi</td>\n",
       "      <td>2.68</td>\n",
       "      <td>3.47</td>\n",
       "      <td>9.0</td>\n",
       "      <td>154</td>\n",
       "      <td>5000</td>\n",
       "      <td>19</td>\n",
       "      <td>26</td>\n",
       "      <td>16500.0</td>\n",
       "    </tr>\n",
       "    <tr>\n",
       "      <th>3</th>\n",
       "      <td>4</td>\n",
       "      <td>2</td>\n",
       "      <td>audi 100 ls</td>\n",
       "      <td>gas</td>\n",
       "      <td>std</td>\n",
       "      <td>four</td>\n",
       "      <td>sedan</td>\n",
       "      <td>fwd</td>\n",
       "      <td>front</td>\n",
       "      <td>99.8</td>\n",
       "      <td>...</td>\n",
       "      <td>109</td>\n",
       "      <td>mpfi</td>\n",
       "      <td>3.19</td>\n",
       "      <td>3.40</td>\n",
       "      <td>10.0</td>\n",
       "      <td>102</td>\n",
       "      <td>5500</td>\n",
       "      <td>24</td>\n",
       "      <td>30</td>\n",
       "      <td>13950.0</td>\n",
       "    </tr>\n",
       "    <tr>\n",
       "      <th>4</th>\n",
       "      <td>5</td>\n",
       "      <td>2</td>\n",
       "      <td>audi 100ls</td>\n",
       "      <td>gas</td>\n",
       "      <td>std</td>\n",
       "      <td>four</td>\n",
       "      <td>sedan</td>\n",
       "      <td>4wd</td>\n",
       "      <td>front</td>\n",
       "      <td>99.4</td>\n",
       "      <td>...</td>\n",
       "      <td>136</td>\n",
       "      <td>mpfi</td>\n",
       "      <td>3.19</td>\n",
       "      <td>3.40</td>\n",
       "      <td>8.0</td>\n",
       "      <td>115</td>\n",
       "      <td>5500</td>\n",
       "      <td>18</td>\n",
       "      <td>22</td>\n",
       "      <td>17450.0</td>\n",
       "    </tr>\n",
       "    <tr>\n",
       "      <th>...</th>\n",
       "      <td>...</td>\n",
       "      <td>...</td>\n",
       "      <td>...</td>\n",
       "      <td>...</td>\n",
       "      <td>...</td>\n",
       "      <td>...</td>\n",
       "      <td>...</td>\n",
       "      <td>...</td>\n",
       "      <td>...</td>\n",
       "      <td>...</td>\n",
       "      <td>...</td>\n",
       "      <td>...</td>\n",
       "      <td>...</td>\n",
       "      <td>...</td>\n",
       "      <td>...</td>\n",
       "      <td>...</td>\n",
       "      <td>...</td>\n",
       "      <td>...</td>\n",
       "      <td>...</td>\n",
       "      <td>...</td>\n",
       "      <td>...</td>\n",
       "    </tr>\n",
       "    <tr>\n",
       "      <th>200</th>\n",
       "      <td>201</td>\n",
       "      <td>-1</td>\n",
       "      <td>volvo 145e (sw)</td>\n",
       "      <td>gas</td>\n",
       "      <td>std</td>\n",
       "      <td>four</td>\n",
       "      <td>sedan</td>\n",
       "      <td>rwd</td>\n",
       "      <td>front</td>\n",
       "      <td>109.1</td>\n",
       "      <td>...</td>\n",
       "      <td>141</td>\n",
       "      <td>mpfi</td>\n",
       "      <td>3.78</td>\n",
       "      <td>3.15</td>\n",
       "      <td>9.5</td>\n",
       "      <td>114</td>\n",
       "      <td>5400</td>\n",
       "      <td>23</td>\n",
       "      <td>28</td>\n",
       "      <td>16845.0</td>\n",
       "    </tr>\n",
       "    <tr>\n",
       "      <th>201</th>\n",
       "      <td>202</td>\n",
       "      <td>-1</td>\n",
       "      <td>volvo 144ea</td>\n",
       "      <td>gas</td>\n",
       "      <td>turbo</td>\n",
       "      <td>four</td>\n",
       "      <td>sedan</td>\n",
       "      <td>rwd</td>\n",
       "      <td>front</td>\n",
       "      <td>109.1</td>\n",
       "      <td>...</td>\n",
       "      <td>141</td>\n",
       "      <td>mpfi</td>\n",
       "      <td>3.78</td>\n",
       "      <td>3.15</td>\n",
       "      <td>8.7</td>\n",
       "      <td>160</td>\n",
       "      <td>5300</td>\n",
       "      <td>19</td>\n",
       "      <td>25</td>\n",
       "      <td>19045.0</td>\n",
       "    </tr>\n",
       "    <tr>\n",
       "      <th>202</th>\n",
       "      <td>203</td>\n",
       "      <td>-1</td>\n",
       "      <td>volvo 244dl</td>\n",
       "      <td>gas</td>\n",
       "      <td>std</td>\n",
       "      <td>four</td>\n",
       "      <td>sedan</td>\n",
       "      <td>rwd</td>\n",
       "      <td>front</td>\n",
       "      <td>109.1</td>\n",
       "      <td>...</td>\n",
       "      <td>173</td>\n",
       "      <td>mpfi</td>\n",
       "      <td>3.58</td>\n",
       "      <td>2.87</td>\n",
       "      <td>8.8</td>\n",
       "      <td>134</td>\n",
       "      <td>5500</td>\n",
       "      <td>18</td>\n",
       "      <td>23</td>\n",
       "      <td>21485.0</td>\n",
       "    </tr>\n",
       "    <tr>\n",
       "      <th>203</th>\n",
       "      <td>204</td>\n",
       "      <td>-1</td>\n",
       "      <td>volvo 246</td>\n",
       "      <td>diesel</td>\n",
       "      <td>turbo</td>\n",
       "      <td>four</td>\n",
       "      <td>sedan</td>\n",
       "      <td>rwd</td>\n",
       "      <td>front</td>\n",
       "      <td>109.1</td>\n",
       "      <td>...</td>\n",
       "      <td>145</td>\n",
       "      <td>idi</td>\n",
       "      <td>3.01</td>\n",
       "      <td>3.40</td>\n",
       "      <td>23.0</td>\n",
       "      <td>106</td>\n",
       "      <td>4800</td>\n",
       "      <td>26</td>\n",
       "      <td>27</td>\n",
       "      <td>22470.0</td>\n",
       "    </tr>\n",
       "    <tr>\n",
       "      <th>204</th>\n",
       "      <td>205</td>\n",
       "      <td>-1</td>\n",
       "      <td>volvo 264gl</td>\n",
       "      <td>gas</td>\n",
       "      <td>turbo</td>\n",
       "      <td>four</td>\n",
       "      <td>sedan</td>\n",
       "      <td>rwd</td>\n",
       "      <td>front</td>\n",
       "      <td>109.1</td>\n",
       "      <td>...</td>\n",
       "      <td>141</td>\n",
       "      <td>mpfi</td>\n",
       "      <td>3.78</td>\n",
       "      <td>3.15</td>\n",
       "      <td>9.5</td>\n",
       "      <td>114</td>\n",
       "      <td>5400</td>\n",
       "      <td>19</td>\n",
       "      <td>25</td>\n",
       "      <td>22625.0</td>\n",
       "    </tr>\n",
       "  </tbody>\n",
       "</table>\n",
       "<p>205 rows × 26 columns</p>\n",
       "</div>"
      ],
      "text/plain": [
       "     car_ID  symboling                   CarName fueltype aspiration  \\\n",
       "0         1          3        alfa-romero giulia      gas        std   \n",
       "1         2          3       alfa-romero stelvio      gas        std   \n",
       "2         3          1  alfa-romero Quadrifoglio      gas        std   \n",
       "3         4          2               audi 100 ls      gas        std   \n",
       "4         5          2                audi 100ls      gas        std   \n",
       "..      ...        ...                       ...      ...        ...   \n",
       "200     201         -1           volvo 145e (sw)      gas        std   \n",
       "201     202         -1               volvo 144ea      gas      turbo   \n",
       "202     203         -1               volvo 244dl      gas        std   \n",
       "203     204         -1                 volvo 246   diesel      turbo   \n",
       "204     205         -1               volvo 264gl      gas      turbo   \n",
       "\n",
       "    doornumber      carbody drivewheel enginelocation  wheelbase  ...  \\\n",
       "0          two  convertible        rwd          front       88.6  ...   \n",
       "1          two  convertible        rwd          front       88.6  ...   \n",
       "2          two    hatchback        rwd          front       94.5  ...   \n",
       "3         four        sedan        fwd          front       99.8  ...   \n",
       "4         four        sedan        4wd          front       99.4  ...   \n",
       "..         ...          ...        ...            ...        ...  ...   \n",
       "200       four        sedan        rwd          front      109.1  ...   \n",
       "201       four        sedan        rwd          front      109.1  ...   \n",
       "202       four        sedan        rwd          front      109.1  ...   \n",
       "203       four        sedan        rwd          front      109.1  ...   \n",
       "204       four        sedan        rwd          front      109.1  ...   \n",
       "\n",
       "     enginesize  fuelsystem  boreratio  stroke compressionratio horsepower  \\\n",
       "0           130        mpfi       3.47    2.68              9.0        111   \n",
       "1           130        mpfi       3.47    2.68              9.0        111   \n",
       "2           152        mpfi       2.68    3.47              9.0        154   \n",
       "3           109        mpfi       3.19    3.40             10.0        102   \n",
       "4           136        mpfi       3.19    3.40              8.0        115   \n",
       "..          ...         ...        ...     ...              ...        ...   \n",
       "200         141        mpfi       3.78    3.15              9.5        114   \n",
       "201         141        mpfi       3.78    3.15              8.7        160   \n",
       "202         173        mpfi       3.58    2.87              8.8        134   \n",
       "203         145         idi       3.01    3.40             23.0        106   \n",
       "204         141        mpfi       3.78    3.15              9.5        114   \n",
       "\n",
       "     peakrpm citympg  highwaympg    price  \n",
       "0       5000      21          27  13495.0  \n",
       "1       5000      21          27  16500.0  \n",
       "2       5000      19          26  16500.0  \n",
       "3       5500      24          30  13950.0  \n",
       "4       5500      18          22  17450.0  \n",
       "..       ...     ...         ...      ...  \n",
       "200     5400      23          28  16845.0  \n",
       "201     5300      19          25  19045.0  \n",
       "202     5500      18          23  21485.0  \n",
       "203     4800      26          27  22470.0  \n",
       "204     5400      19          25  22625.0  \n",
       "\n",
       "[205 rows x 26 columns]"
      ]
     },
     "execution_count": 1,
     "metadata": {},
     "output_type": "execute_result"
    }
   ],
   "source": [
    "from IPython.core.interactiveshell import InteractiveShell\n",
    "InteractiveShell.ast_node_interactivity = \"all\"\n",
    "import numpy as np\n",
    "import pandas as pd\n",
    "import matplotlib.pyplot as plt\n",
    "%matplotlib inline\n",
    "import seaborn as sns\n",
    "from math import sqrt\n",
    "from sklearn.preprocessing import StandardScaler\n",
    "from sklearn.model_selection import train_test_split\n",
    "from sklearn import preprocessing\n",
    "# machine learning\n",
    "from sklearn.tree import DecisionTreeRegressor\n",
    "from sklearn.ensemble import RandomForestRegressor\n",
    "from sklearn.metrics import mean_squared_error\n",
    "from sklearn.metrics import mean_absolute_error\n",
    "from sklearn.metrics import r2_score\n",
    "\n",
    "car_price_data = pd.read_csv('CarPrice_Assignment.csv')\n",
    "car_price_data"
   ]
  },
  {
   "cell_type": "markdown",
   "id": "a533bdb8",
   "metadata": {},
   "source": [
    "2. Data Visualisation and Augmentation (0.5*6 = 3 marks)\n",
    "\n",
    "    • Plot at least two EDA graphs (use matplotlib/seaborn/any other library)"
   ]
  },
  {
   "cell_type": "code",
   "execution_count": 2,
   "id": "7f0b5b36",
   "metadata": {},
   "outputs": [
    {
     "data": {
      "image/png": "[encoded data removed]",
      "text/plain": [
       "<Figure size 432x288 with 1 Axes>"
      ]
     },
     "metadata": {
      "needs_background": "light"
     },
     "output_type": "display_data"
    }
   ],
   "source": [
    "sns.boxplot(x = 'symboling', y = 'price', data = car_price_data,palette='Pastel1');"
   ]
  },
  {
   "cell_type": "code",
   "execution_count": 3,
   "id": "9de30745",
   "metadata": {},
   "outputs": [
    {
     "data": {
      "image/png": "[encoded data removed]",
      "text/plain": [
       "<Figure size 432x288 with 1 Axes>"
      ]
     },
     "metadata": {
      "needs_background": "light"
     },
     "output_type": "display_data"
    }
   ],
   "source": [
    "sns.histplot(car_price_data['price'],kde=True);"
   ]
  },
  {
   "cell_type": "code",
   "execution_count": 4,
   "id": "2dc6f511",
   "metadata": {},
   "outputs": [
    {
     "data": {
      "image/png": "[encoded data removed]",
      "text/plain": [
       "<Figure size 864x360 with 2 Axes>"
      ]
     },
     "metadata": {
      "needs_background": "light"
     },
     "output_type": "display_data"
    }
   ],
   "source": [
    "f= plt.figure(figsize=(12,5))\n",
    "\n",
    "ax=f.add_subplot(121)\n",
    "plot=sns.histplot(car_price_data[(car_price_data.doornumber== 'two')][\"price\"],color='#ca91eb',ax=ax)\n",
    "ax.set_title('Price distribution of cars having two doors');\n",
    "\n",
    "ax=f.add_subplot(122)\n",
    "plot=sns.histplot(car_price_data[(car_price_data.doornumber == 'four')]['price'],color='#eb6426',ax=ax)\n",
    "ax.set_title('Price distribution of cars having four doors');"
   ]
  },
  {
   "cell_type": "code",
   "execution_count": 5,
   "id": "fd9ef9be",
   "metadata": {},
   "outputs": [
    {
     "data": {
      "image/png": "[encoded data removed]",
      "text/plain": [
       "<Figure size 432x288 with 1 Axes>"
      ]
     },
     "metadata": {
      "needs_background": "light"
     },
     "output_type": "display_data"
    }
   ],
   "source": [
    "sns.scatterplot(x=\"wheelbase\", y=\"price\", data=car_price_data,color='purple');"
   ]
  },
  {
   "cell_type": "code",
   "execution_count": 6,
   "id": "5abb6473",
   "metadata": {},
   "outputs": [
    {
     "data": {
      "image/png": "[encoded data removed]",
      "text/plain": [
       "<Figure size 432x432 with 3 Axes>"
      ]
     },
     "metadata": {
      "needs_background": "light"
     },
     "output_type": "display_data"
    }
   ],
   "source": [
    "g = sns.jointplot(x=\"carwidth\", y=\"price\", data=car_price_data, kind=\"kde\", color=\"pink\")\n",
    "g.plot_joint(plt.scatter, c=\"w\", s=30, linewidth=1, marker=\"+\")\n",
    "g.ax_joint.collections[0].set_alpha(0)\n",
    "g.set_axis_labels(\"car width\", \"price\");"
   ]
  },
  {
   "cell_type": "markdown",
   "id": "f4eeda33",
   "metadata": {},
   "source": [
    "• Perform missing values check"
   ]
  },
  {
   "cell_type": "code",
   "execution_count": 7,
   "id": "540e532c",
   "metadata": {},
   "outputs": [
    {
     "name": "stdout",
     "output_type": "stream",
     "text": [
      "<class 'pandas.core.frame.DataFrame'>\n",
      "RangeIndex: 205 entries, 0 to 204\n",
      "Data columns (total 26 columns):\n",
      " #   Column            Non-Null Count  Dtype  \n",
      "---  ------            --------------  -----  \n",
      " 0   car_ID            205 non-null    int64  \n",
      " 1   symboling         205 non-null    int64  \n",
      " 2   CarName           205 non-null    object \n",
      " 3   fueltype          205 non-null    object \n",
      " 4   aspiration        205 non-null    object \n",
      " 5   doornumber        205 non-null    object \n",
      " 6   carbody           205 non-null    object \n",
      " 7   drivewheel        205 non-null    object \n",
      " 8   enginelocation    205 non-null    object \n",
      " 9   wheelbase         205 non-null    float64\n",
      " 10  carlength         205 non-null    float64\n",
      " 11  carwidth          205 non-null    float64\n",
      " 12  carheight         205 non-null    float64\n",
      " 13  curbweight        205 non-null    int64  \n",
      " 14  enginetype        205 non-null    object \n",
      " 15  cylindernumber    205 non-null    object \n",
      " 16  enginesize        205 non-null    int64  \n",
      " 17  fuelsystem        205 non-null    object \n",
      " 18  boreratio         205 non-null    float64\n",
      " 19  stroke            205 non-null    float64\n",
      " 20  compressionratio  205 non-null    float64\n",
      " 21  horsepower        205 non-null    int64  \n",
      " 22  peakrpm           205 non-null    int64  \n",
      " 23  citympg           205 non-null    int64  \n",
      " 24  highwaympg        205 non-null    int64  \n",
      " 25  price             205 non-null    float64\n",
      "dtypes: float64(8), int64(8), object(10)\n",
      "memory usage: 41.8+ KB\n"
     ]
    }
   ],
   "source": [
    "car_price_data.info()"
   ]
  },
  {
   "cell_type": "code",
   "execution_count": 8,
   "id": "d71d6707",
   "metadata": {},
   "outputs": [
    {
     "data": {
      "text/html": [
       "<div>\n",
       "<style scoped>\n",
       "    .dataframe tbody tr th:only-of-type {\n",
       "        vertical-align: middle;\n",
       "    }\n",
       "\n",
       "    .dataframe tbody tr th {\n",
       "        vertical-align: top;\n",
       "    }\n",
       "\n",
       "    .dataframe thead th {\n",
       "        text-align: right;\n",
       "    }\n",
       "</style>\n",
       "<table border=\"1\" class=\"dataframe\">\n",
       "  <thead>\n",
       "    <tr style=\"text-align: right;\">\n",
       "      <th></th>\n",
       "      <th>car_ID</th>\n",
       "      <th>symboling</th>\n",
       "      <th>CarName</th>\n",
       "      <th>fueltype</th>\n",
       "      <th>aspiration</th>\n",
       "      <th>doornumber</th>\n",
       "      <th>carbody</th>\n",
       "      <th>drivewheel</th>\n",
       "      <th>enginelocation</th>\n",
       "      <th>wheelbase</th>\n",
       "      <th>...</th>\n",
       "      <th>enginesize</th>\n",
       "      <th>fuelsystem</th>\n",
       "      <th>boreratio</th>\n",
       "      <th>stroke</th>\n",
       "      <th>compressionratio</th>\n",
       "      <th>horsepower</th>\n",
       "      <th>peakrpm</th>\n",
       "      <th>citympg</th>\n",
       "      <th>highwaympg</th>\n",
       "      <th>price</th>\n",
       "    </tr>\n",
       "  </thead>\n",
       "  <tbody>\n",
       "    <tr>\n",
       "      <th>0</th>\n",
       "      <td>1</td>\n",
       "      <td>3</td>\n",
       "      <td>alfa-romero giulia</td>\n",
       "      <td>gas</td>\n",
       "      <td>std</td>\n",
       "      <td>two</td>\n",
       "      <td>0</td>\n",
       "      <td>2</td>\n",
       "      <td>front</td>\n",
       "      <td>88.6</td>\n",
       "      <td>...</td>\n",
       "      <td>130</td>\n",
       "      <td>mpfi</td>\n",
       "      <td>3.47</td>\n",
       "      <td>2.68</td>\n",
       "      <td>9.0</td>\n",
       "      <td>111</td>\n",
       "      <td>5000</td>\n",
       "      <td>21</td>\n",
       "      <td>27</td>\n",
       "      <td>13495.0</td>\n",
       "    </tr>\n",
       "    <tr>\n",
       "      <th>1</th>\n",
       "      <td>2</td>\n",
       "      <td>3</td>\n",
       "      <td>alfa-romero stelvio</td>\n",
       "      <td>gas</td>\n",
       "      <td>std</td>\n",
       "      <td>two</td>\n",
       "      <td>0</td>\n",
       "      <td>2</td>\n",
       "      <td>front</td>\n",
       "      <td>88.6</td>\n",
       "      <td>...</td>\n",
       "      <td>130</td>\n",
       "      <td>mpfi</td>\n",
       "      <td>3.47</td>\n",
       "      <td>2.68</td>\n",
       "      <td>9.0</td>\n",
       "      <td>111</td>\n",
       "      <td>5000</td>\n",
       "      <td>21</td>\n",
       "      <td>27</td>\n",
       "      <td>16500.0</td>\n",
       "    </tr>\n",
       "    <tr>\n",
       "      <th>2</th>\n",
       "      <td>3</td>\n",
       "      <td>1</td>\n",
       "      <td>alfa-romero Quadrifoglio</td>\n",
       "      <td>gas</td>\n",
       "      <td>std</td>\n",
       "      <td>two</td>\n",
       "      <td>2</td>\n",
       "      <td>2</td>\n",
       "      <td>front</td>\n",
       "      <td>94.5</td>\n",
       "      <td>...</td>\n",
       "      <td>152</td>\n",
       "      <td>mpfi</td>\n",
       "      <td>2.68</td>\n",
       "      <td>3.47</td>\n",
       "      <td>9.0</td>\n",
       "      <td>154</td>\n",
       "      <td>5000</td>\n",
       "      <td>19</td>\n",
       "      <td>26</td>\n",
       "      <td>16500.0</td>\n",
       "    </tr>\n",
       "    <tr>\n",
       "      <th>3</th>\n",
       "      <td>4</td>\n",
       "      <td>2</td>\n",
       "      <td>audi 100 ls</td>\n",
       "      <td>gas</td>\n",
       "      <td>std</td>\n",
       "      <td>four</td>\n",
       "      <td>3</td>\n",
       "      <td>1</td>\n",
       "      <td>front</td>\n",
       "      <td>99.8</td>\n",
       "      <td>...</td>\n",
       "      <td>109</td>\n",
       "      <td>mpfi</td>\n",
       "      <td>3.19</td>\n",
       "      <td>3.40</td>\n",
       "      <td>10.0</td>\n",
       "      <td>102</td>\n",
       "      <td>5500</td>\n",
       "      <td>24</td>\n",
       "      <td>30</td>\n",
       "      <td>13950.0</td>\n",
       "    </tr>\n",
       "    <tr>\n",
       "      <th>4</th>\n",
       "      <td>5</td>\n",
       "      <td>2</td>\n",
       "      <td>audi 100ls</td>\n",
       "      <td>gas</td>\n",
       "      <td>std</td>\n",
       "      <td>four</td>\n",
       "      <td>3</td>\n",
       "      <td>0</td>\n",
       "      <td>front</td>\n",
       "      <td>99.4</td>\n",
       "      <td>...</td>\n",
       "      <td>136</td>\n",
       "      <td>mpfi</td>\n",
       "      <td>3.19</td>\n",
       "      <td>3.40</td>\n",
       "      <td>8.0</td>\n",
       "      <td>115</td>\n",
       "      <td>5500</td>\n",
       "      <td>18</td>\n",
       "      <td>22</td>\n",
       "      <td>17450.0</td>\n",
       "    </tr>\n",
       "  </tbody>\n",
       "</table>\n",
       "<p>5 rows × 26 columns</p>\n",
       "</div>"
      ],
      "text/plain": [
       "   car_ID  symboling                   CarName fueltype aspiration doornumber  \\\n",
       "0       1          3        alfa-romero giulia      gas        std        two   \n",
       "1       2          3       alfa-romero stelvio      gas        std        two   \n",
       "2       3          1  alfa-romero Quadrifoglio      gas        std        two   \n",
       "3       4          2               audi 100 ls      gas        std       four   \n",
       "4       5          2                audi 100ls      gas        std       four   \n",
       "\n",
       "   carbody  drivewheel enginelocation  wheelbase  ...  enginesize  fuelsystem  \\\n",
       "0        0           2          front       88.6  ...         130        mpfi   \n",
       "1        0           2          front       88.6  ...         130        mpfi   \n",
       "2        2           2          front       94.5  ...         152        mpfi   \n",
       "3        3           1          front       99.8  ...         109        mpfi   \n",
       "4        3           0          front       99.4  ...         136        mpfi   \n",
       "\n",
       "   boreratio  stroke compressionratio  horsepower  peakrpm citympg  \\\n",
       "0       3.47    2.68              9.0         111     5000      21   \n",
       "1       3.47    2.68              9.0         111     5000      21   \n",
       "2       2.68    3.47              9.0         154     5000      19   \n",
       "3       3.19    3.40             10.0         102     5500      24   \n",
       "4       3.19    3.40              8.0         115     5500      18   \n",
       "\n",
       "   highwaympg    price  \n",
       "0          27  13495.0  \n",
       "1          27  16500.0  \n",
       "2          26  16500.0  \n",
       "3          30  13950.0  \n",
       "4          22  17450.0  \n",
       "\n",
       "[5 rows x 26 columns]"
      ]
     },
     "execution_count": 8,
     "metadata": {},
     "output_type": "execute_result"
    }
   ],
   "source": [
    "label = preprocessing.LabelEncoder()\n",
    "car_price_data['drivewheel'] = label.fit_transform(car_price_data['drivewheel'])\n",
    "car_price_data['carbody'] = label.fit_transform(car_price_data['carbody'])\n",
    "car_price_data['cylindernumber'] = label.fit_transform(car_price_data['cylindernumber'])\n",
    "car_price_data.head()"
   ]
  },
  {
   "cell_type": "code",
   "execution_count": 9,
   "id": "a52ccfc1",
   "metadata": {},
   "outputs": [
    {
     "data": {
      "text/plain": [
       "car_ID              0.0\n",
       "symboling           0.0\n",
       "CarName             0.0\n",
       "fueltype            0.0\n",
       "aspiration          0.0\n",
       "doornumber          0.0\n",
       "carbody             0.0\n",
       "drivewheel          0.0\n",
       "enginelocation      0.0\n",
       "wheelbase           0.0\n",
       "carlength           0.0\n",
       "carwidth            0.0\n",
       "carheight           0.0\n",
       "curbweight          0.0\n",
       "enginetype          0.0\n",
       "cylindernumber      0.0\n",
       "enginesize          0.0\n",
       "fuelsystem          0.0\n",
       "boreratio           0.0\n",
       "stroke              0.0\n",
       "compressionratio    0.0\n",
       "horsepower          0.0\n",
       "peakrpm             0.0\n",
       "citympg             0.0\n",
       "highwaympg          0.0\n",
       "price               0.0\n",
       "dtype: float64"
      ]
     },
     "execution_count": 9,
     "metadata": {},
     "output_type": "execute_result"
    }
   ],
   "source": [
    "# Checking Null values\n",
    "car_price_data.isnull().sum()*100/car_price_data.shape[0]"
   ]
  },
  {
   "cell_type": "markdown",
   "id": "2e4f8455",
   "metadata": {},
   "source": [
    "• Bring the train and test data in the required format"
   ]
  },
  {
   "cell_type": "code",
   "execution_count": 10,
   "id": "1b37ae69",
   "metadata": {},
   "outputs": [],
   "source": [
    "features = [\"carbody\",\"drivewheel\",\"cylindernumber\", \"curbweight\", \"horsepower\", \"peakrpm\", \"citympg\", \"highwaympg\"]\n",
    "X = car_price_data[features]\n",
    "y = car_price_data[\"price\"]"
   ]
  },
  {
   "cell_type": "code",
   "execution_count": 11,
   "id": "c45e74dc",
   "metadata": {},
   "outputs": [],
   "source": [
    "X_train, X_test, y_train, y_test = train_test_split(X, y, test_size=0.3, random_state=42)"
   ]
  },
  {
   "cell_type": "markdown",
   "id": "ef6fd9af",
   "metadata": {},
   "source": [
    "• Print the shapes of train and test data"
   ]
  },
  {
   "cell_type": "code",
   "execution_count": 12,
   "id": "4b878cf3",
   "metadata": {},
   "outputs": [
    {
     "data": {
      "text/plain": [
       "((143, 8), (62, 8), (143,), (62,))"
      ]
     },
     "execution_count": 12,
     "metadata": {},
     "output_type": "execute_result"
    }
   ],
   "source": [
    "X_train.shape,X_test.shape,y_train.shape,y_test.shape"
   ]
  },
  {
   "cell_type": "markdown",
   "id": "a58b1596",
   "metadata": {},
   "source": [
    "• Perform scaling of data"
   ]
  },
  {
   "cell_type": "code",
   "execution_count": 13,
   "id": "cab09001",
   "metadata": {},
   "outputs": [],
   "source": [
    "ss = StandardScaler()\n",
    "X_train_scaled = ss.fit_transform(X_train)\n",
    "X_test_scaled = ss.transform(X_test)"
   ]
  },
  {
   "cell_type": "markdown",
   "id": "7095e18c",
   "metadata": {},
   "source": [
    "Model Building (0.5*3 = 1.5 marks)\n",
    "\n",
    "    • Build a simple linear regression model using TV as input predictor and sales as target variable\n",
    "\n",
    "    • Train the model on the train dataset\n",
    "\n",
    "    • Print the model summary"
   ]
  },
  {
   "cell_type": "code",
   "execution_count": 14,
   "id": "67b4c3fa",
   "metadata": {},
   "outputs": [
    {
     "data": {
      "text/plain": [
       "DecisionTreeRegressor()"
      ]
     },
     "execution_count": 14,
     "metadata": {},
     "output_type": "execute_result"
    }
   ],
   "source": [
    "tree = DecisionTreeRegressor()\n",
    "tree.fit(X_train_scaled,y_train)"
   ]
  },
  {
   "cell_type": "code",
   "execution_count": 15,
   "id": "a464a671",
   "metadata": {},
   "outputs": [],
   "source": [
    "prediction = tree.predict(X_test_scaled)"
   ]
  },
  {
   "cell_type": "code",
   "execution_count": 16,
   "id": "642d01a3",
   "metadata": {},
   "outputs": [
    {
     "data": {
      "text/plain": [
       "1.0"
      ]
     },
     "execution_count": 16,
     "metadata": {},
     "output_type": "execute_result"
    }
   ],
   "source": [
    "tree.score(X_test_scaled,prediction)"
   ]
  },
  {
   "cell_type": "code",
   "execution_count": 17,
   "id": "9d84b3c1",
   "metadata": {},
   "outputs": [
    {
     "name": "stdout",
     "output_type": "stream",
     "text": [
      "MAE for Decision Tree 1998.8118225806452\n",
      "MSE for Decision Tree:  10563770.740385305\n",
      "Root Mean Sqaured Error for Decision Tree:  3250.1954926412204\n",
      "R2-score for Decision Tree :  0.8475302665315981\n"
     ]
    }
   ],
   "source": [
    "print(\"MAE for Decision Tree\",mean_absolute_error(y_test,prediction))\n",
    "mse_dt = mean_squared_error(y_test,prediction)\n",
    "print(\"MSE for Decision Tree: \", mse_dt)\n",
    "rmse_dt = np.sqrt(mse_dt)\n",
    "print(\"Root Mean Sqaured Error for Decision Tree: \", rmse_dt)\n",
    "print(\"R2-score for Decision Tree : \", r2_score(y_test,prediction))"
   ]
  },
  {
   "cell_type": "markdown",
   "id": "bfc2c2c9",
   "metadata": {},
   "source": [
    "5. Model Evaluation (1 + 1 = 2 marks)\n",
    "\n",
    "    • Print the final train and validation RMSE and MSE for both models\n",
    "\n",
    "    • Check for other evaluation metrics like MAE and R2 and explain which one should be used to evaluate this model (consider the business case)"
   ]
  },
  {
   "cell_type": "code",
   "execution_count": 18,
   "id": "c527a7b8",
   "metadata": {},
   "outputs": [
    {
     "data": {
      "text/plain": [
       "RandomForestRegressor(n_estimators=15, n_jobs=-1, random_state=42)"
      ]
     },
     "execution_count": 18,
     "metadata": {},
     "output_type": "execute_result"
    },
    {
     "data": {
      "text/plain": [
       "0.9362061565380955"
      ]
     },
     "execution_count": 18,
     "metadata": {},
     "output_type": "execute_result"
    }
   ],
   "source": [
    "Rf = RandomForestRegressor(n_estimators = 15, criterion = 'squared_error', random_state = 42, n_jobs = -1)\n",
    "Rf.fit(X_train_scaled,y_train)\n",
    "Rf_train_pred = Rf.predict(X_train_scaled)\n",
    "Rf_test_pred = Rf.predict(X_test_scaled)\n",
    "r2_score(y_test,Rf_test_pred)"
   ]
  },
  {
   "cell_type": "code",
   "execution_count": 19,
   "id": "90d2af8e",
   "metadata": {},
   "outputs": [
    {
     "name": "stdout",
     "output_type": "stream",
     "text": [
      "MAE for Random Forest 1431.716446236559\n",
      "MSE for Random Forest 4419916.803483156\n",
      "RMSE for Random Forest 2102.359817795982\n",
      "R2 score for Random Forest 0.9362061565380955\n"
     ]
    }
   ],
   "source": [
    "print(\"MAE for Random Forest\",mean_absolute_error(y_test,Rf_test_pred))\n",
    "print(\"MSE for Random Forest\",mean_squared_error(y_test,Rf_test_pred))\n",
    "mse_rf = mean_squared_error(y_test,Rf_test_pred)\n",
    "rmse_rf = np.sqrt(mse_rf)\n",
    "print(\"RMSE for Random Forest\", rmse_rf)\n",
    "print(\"R2 score for Random Forest\",r2_score(y_test,Rf_test_pred))"
   ]
  },
  {
   "cell_type": "markdown",
   "id": "35b50f41",
   "metadata": {},
   "source": [
    "The Mean squared error represents the error of the estimator or predictive model created based on the given set of observations in the sample. Intuitively, the MSE is used to measure the quality of the model based on the predictions made on the entire training dataset vis-a-vis the true label/output value. In other words, it can be used to represent the cost associated with the predictions or the loss incurred in the predictions. And, the squared loss is advantageous because they exaggerate the difference between the true value and the predicted value. Two or more regression models created using a given sample of data can be compared based on their MSE. The lesser the MSE, the better the regression model is. When the linear regression model is trained using a given set of observations, the model with the least mean sum of squares error is selected as the best model."
   ]
  },
  {
   "cell_type": "markdown",
   "id": "9cc84dfc",
   "metadata": {},
   "source": [
    "6. Compare the performance of decision tree regression and random forest regression models for given dataset (1 mark)"
   ]
  },
  {
   "cell_type": "markdown",
   "id": "eff692df",
   "metadata": {},
   "source": [
    "### Comparision between Decision Tree and Random Forest Models\n",
    "\n",
    "The random forest is the combination of multiple decision trees which is the class of dataset, some decision trees out of it may give the correct output and others may not give it correctly, but all trees together predict a correct output, whereas the decision trees use an algorithm to decide node and sub-nodes, a node can be split into two or more sub-nodes, by creating sub-nodes it gives another homogeneous sub-nodes, we can say that the nodes have been increases with respect to the target value. The split is done with the highest information that will be taken in the first place, also the process has been continued until all the children nodes have consistent data.\n",
    "\n",
    "Complexity: The decision tree is a simple series of decisions made to get the specific results, it is used for both classification and regression. The advantage of the simple decision tree is that this model is easy to interpret and while building decision trees we aware of which variable and what is the value of the variable is using to split the data, and due to that the output will be predicted fast, on the other hand, the random forest is more complex as there is a combination of decision trees while building a random forest we have to define the number of trees we want to build and how many variables we need at each node.\n",
    "Accuracy: Random forest predicts more accurate results than the decision trees. It is the supervised learning algorithm in machine learning that it uses the bagging method so that there is a combination of learning models which increases the accuracy of results, we can also say that random forests build up many decision trees and that combines together which gives a stable and accurate result, when we are using an algorithm to solve the regression problem in a random forest there is a formula to get an accurate result for each node, whereas the accuracy in the decision tree depends on the number of the correct prediction made divided by total numbers of predictions, as it uses large value attribute at each node, it gives less accurate results decision tree is greedy and it may be deterministic, so if we add one more row or if we take out any row then they give different results.\n",
    "Overfitting: Overfitting is the critical issue in machine learning, when we use algorithms then there is a risk of overfitting which can be considered as a general bottleneck in machine learning. Overfitting happens when the models learn fluctuation data in the training data which impacted a negative performance on the new data model, when machine learning model cannot fill well on unseen dataset then that is a sign of overfitting if this error is found on the testing or validation dataset is much for the error on the training dataset.\n",
    "The decision tree has more possibility of overfitting whereas random forest reduces the risk of it because it uses multiple decision trees.\n",
    "When we using a decision tree model on a given dataset the accuracy going improving because it has more splits so that we can easily overfit the data and validates it."
   ]
  }
 ],
 "metadata": {
  "kernelspec": {
   "display_name": "Python 3 (ipykernel)",
   "language": "python",
   "name": "python3"
  },
  "language_info": {
   "codemirror_mode": {
    "name": "ipython",
    "version": 3
   },
   "file_extension": ".py",
   "mimetype": "text/x-python",
   "name": "python",
   "nbconvert_exporter": "python",
   "pygments_lexer": "ipython3",
   "version": "3.9.12"
  }
 },
 "nbformat": 4,
 "nbformat_minor": 5
}
